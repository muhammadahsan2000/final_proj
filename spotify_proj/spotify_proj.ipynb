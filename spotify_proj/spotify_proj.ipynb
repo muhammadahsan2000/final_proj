{
 "cells": [
  {
   "cell_type": "code",
   "execution_count": 1,
   "id": "be4f8ccd",
   "metadata": {
    "scrolled": true
   },
   "outputs": [
    {
     "name": "stdout",
     "output_type": "stream",
     "text": [
      "Requirement already satisfied: spotify in c:\\anaconda\\lib\\site-packages (0.10.2)Note: you may need to restart the kernel to use updated packages.\n",
      "\n",
      "Requirement already satisfied: aiohttp<4.0,>=3.6 in c:\\anaconda\\lib\\site-packages (from spotify) (3.8.5)\n",
      "Requirement already satisfied: backoff<2.0.0,>=1.10.0 in c:\\anaconda\\lib\\site-packages (from spotify) (1.11.1)\n",
      "Requirement already satisfied: attrs>=17.3.0 in c:\\anaconda\\lib\\site-packages (from aiohttp<4.0,>=3.6->spotify) (22.1.0)\n",
      "Requirement already satisfied: charset-normalizer<4.0,>=2.0 in c:\\anaconda\\lib\\site-packages (from aiohttp<4.0,>=3.6->spotify) (2.0.4)\n",
      "Requirement already satisfied: multidict<7.0,>=4.5 in c:\\anaconda\\lib\\site-packages (from aiohttp<4.0,>=3.6->spotify) (6.0.2)\n",
      "Requirement already satisfied: async-timeout<5.0,>=4.0.0a3 in c:\\anaconda\\lib\\site-packages (from aiohttp<4.0,>=3.6->spotify) (4.0.2)\n",
      "Requirement already satisfied: yarl<2.0,>=1.0 in c:\\anaconda\\lib\\site-packages (from aiohttp<4.0,>=3.6->spotify) (1.8.1)\n",
      "Requirement already satisfied: frozenlist>=1.1.1 in c:\\anaconda\\lib\\site-packages (from aiohttp<4.0,>=3.6->spotify) (1.3.3)\n",
      "Requirement already satisfied: aiosignal>=1.1.2 in c:\\anaconda\\lib\\site-packages (from aiohttp<4.0,>=3.6->spotify) (1.2.0)\n",
      "Requirement already satisfied: idna>=2.0 in c:\\anaconda\\lib\\site-packages (from yarl<2.0,>=1.0->aiohttp<4.0,>=3.6->spotify) (3.4)\n"
     ]
    }
   ],
   "source": [
    "pip install spotify"
   ]
  },
  {
   "cell_type": "code",
   "execution_count": 3,
   "id": "7d7035eb",
   "metadata": {},
   "outputs": [
    {
     "name": "stdout",
     "output_type": "stream",
     "text": [
      "Requirement already satisfied: spotipy in c:\\anaconda\\lib\\site-packages (2.24.0)\n",
      "Requirement already satisfied: redis>=3.5.3 in c:\\anaconda\\lib\\site-packages (from spotipy) (5.2.1)\n",
      "Requirement already satisfied: requests>=2.25.0 in c:\\anaconda\\lib\\site-packages (from spotipy) (2.31.0)\n",
      "Requirement already satisfied: urllib3>=1.26.0 in c:\\anaconda\\lib\\site-packages (from spotipy) (1.26.16)\n",
      "Requirement already satisfied: charset-normalizer<4,>=2 in c:\\anaconda\\lib\\site-packages (from requests>=2.25.0->spotipy) (2.0.4)\n",
      "Requirement already satisfied: idna<4,>=2.5 in c:\\anaconda\\lib\\site-packages (from requests>=2.25.0->spotipy) (3.4)\n",
      "Requirement already satisfied: certifi>=2017.4.17 in c:\\anaconda\\lib\\site-packages (from requests>=2.25.0->spotipy) (2023.7.22)\n",
      "Note: you may need to restart the kernel to use updated packages.\n"
     ]
    }
   ],
   "source": [
    "pip install spotipy"
   ]
  },
  {
   "cell_type": "code",
   "execution_count": 5,
   "id": "dfa47900",
   "metadata": {},
   "outputs": [],
   "source": [
    "import spotipy\n",
    "from spotipy.oauth2 import SpotifyClientCredentials\n",
    "import pandas as pd\n"
   ]
  },
  {
   "cell_type": "code",
   "execution_count": 6,
   "id": "f348ba10",
   "metadata": {},
   "outputs": [],
   "source": [
    "client_credentials_manager=SpotifyClientCredentials(client_id=\"ceae9ed1f9ca47589364052977c3e111\",client_secret=\"fba2d5d3c8e540b28566c23cdf375bfb\")"
   ]
  },
  {
   "cell_type": "code",
   "execution_count": 7,
   "id": "199629ff",
   "metadata": {},
   "outputs": [],
   "source": [
    "sp = spotipy.Spotify(auth_manager=client_credentials_manager)"
   ]
  },
  {
   "cell_type": "code",
   "execution_count": 8,
   "id": "9e208f99",
   "metadata": {},
   "outputs": [
    {
     "data": {
      "text/plain": [
       "'4Z2X40gKKjiDzwcKD3K0NG'"
      ]
     },
     "execution_count": 8,
     "metadata": {},
     "output_type": "execute_result"
    }
   ],
   "source": [
    "playlist_link = 'https://open.spotify.com/playlist/4Z2X40gKKjiDzwcKD3K0NG'\n",
    "playlist_URI = playlist_link.split('/')[-1]\n",
    "playlist_URI\n",
    "\n"
   ]
  },
  {
   "cell_type": "code",
   "execution_count": 9,
   "id": "7faf7879",
   "metadata": {},
   "outputs": [
    {
     "data": {
      "text/plain": [
       "'4Z2X40gKKjiDzwcKD3K0NG'"
      ]
     },
     "execution_count": 9,
     "metadata": {},
     "output_type": "execute_result"
    }
   ],
   "source": [
    " #playlist_URI = playlist_link.split(\"/\")[-1].split(\"?\")[0]\n",
    "playlist_URI2 = playlist_link.split(\"/\")[-1].split(\"?\")[0]\n",
    "playlist_URI2    "
   ]
  },
  {
   "cell_type": "code",
   "execution_count": 11,
   "id": "48bac48b",
   "metadata": {},
   "outputs": [
    {
     "data": {
      "text/plain": [
       "'3I3kZyHUtEA9Y59rJkxtk6'"
      ]
     },
     "execution_count": 11,
     "metadata": {},
     "output_type": "execute_result"
    }
   ],
   "source": [
    "data = sp.playlist_tracks(playlist_URI)\n",
    "data['items'][0]['track']['album']['id']"
   ]
  },
  {
   "cell_type": "code",
   "execution_count": 12,
   "id": "7a77a252",
   "metadata": {},
   "outputs": [
    {
     "data": {
      "text/plain": [
       "'Sajni (From \"Laapataa Ladies\")'"
      ]
     },
     "execution_count": 12,
     "metadata": {},
     "output_type": "execute_result"
    }
   ],
   "source": [
    "data['items'][0]['track']['album']['name']\n"
   ]
  },
  {
   "cell_type": "code",
   "execution_count": 13,
   "id": "c0b332d2",
   "metadata": {},
   "outputs": [
    {
     "data": {
      "text/plain": [
       "'2024-02-12'"
      ]
     },
     "execution_count": 13,
     "metadata": {},
     "output_type": "execute_result"
    }
   ],
   "source": [
    "data['items'][0]['track']['album']['release_date']"
   ]
  },
  {
   "cell_type": "code",
   "execution_count": 15,
   "id": "3cd38372",
   "metadata": {},
   "outputs": [
    {
     "data": {
      "text/plain": [
       "1"
      ]
     },
     "execution_count": 15,
     "metadata": {},
     "output_type": "execute_result"
    }
   ],
   "source": [
    "data['items'][0]['track']['album']['total_tracks']"
   ]
  },
  {
   "cell_type": "code",
   "execution_count": 17,
   "id": "21f568d9",
   "metadata": {},
   "outputs": [
    {
     "data": {
      "text/plain": [
       "'https://open.spotify.com/album/3I3kZyHUtEA9Y59rJkxtk6'"
      ]
     },
     "execution_count": 17,
     "metadata": {},
     "output_type": "execute_result"
    }
   ],
   "source": [
    "data['items'][0]['track']['album']['external_urls']['spotify']"
   ]
  },
  {
   "cell_type": "code",
   "execution_count": 19,
   "id": "91bdeb64",
   "metadata": {},
   "outputs": [
    {
     "data": {
      "text/plain": [
       "[{'album_id': '3I3kZyHUtEA9Y59rJkxtk6',\n",
       "  'name': 'Sajni (From \"Laapataa Ladies\")',\n",
       "  'release_date': '2024-02-12',\n",
       "  'total_tracks': 1,\n",
       "  'url': 'https://open.spotify.com/album/3I3kZyHUtEA9Y59rJkxtk6'},\n",
       " {'album_id': '1pw0xzpe4O0OMohBwau50L',\n",
       "  'name': 'Bhediya (Original Motion Picture Soundtrack)',\n",
       "  'release_date': '2022-12-06',\n",
       "  'total_tracks': 5,\n",
       "  'url': 'https://open.spotify.com/album/1pw0xzpe4O0OMohBwau50L'},\n",
       " {'album_id': '381lOukp7nV59bJS13TkPe',\n",
       "  'name': 'Once Upon Ay Time In Mumbai Dobaara !',\n",
       "  'release_date': '2013-07-22',\n",
       "  'total_tracks': 5,\n",
       "  'url': 'https://open.spotify.com/album/381lOukp7nV59bJS13TkPe'},\n",
       " {'album_id': '0upenH0uUT36nBbVM5mQhW',\n",
       "  'name': 'Jo Tum Mere Ho',\n",
       "  'release_date': '2024-08-02',\n",
       "  'total_tracks': 1,\n",
       "  'url': 'https://open.spotify.com/album/0upenH0uUT36nBbVM5mQhW'},\n",
       " {'album_id': '2SarxpD48O1DOiDIccyZ0W',\n",
       "  'name': 'Husn',\n",
       "  'release_date': '2023-12-01',\n",
       "  'total_tracks': 1,\n",
       "  'url': 'https://open.spotify.com/album/2SarxpD48O1DOiDIccyZ0W'},\n",
       " {'album_id': '013jUXOfDFXnDMBetTdsiH',\n",
       "  'name': 'Lost;Found',\n",
       "  'release_date': '2024-05-25',\n",
       "  'total_tracks': 14,\n",
       "  'url': 'https://open.spotify.com/album/013jUXOfDFXnDMBetTdsiH'}]"
      ]
     },
     "execution_count": 19,
     "metadata": {},
     "output_type": "execute_result"
    }
   ],
   "source": [
    "album_list = []\n",
    "for row in data['items']:\n",
    "    album_id = row['track']['album']['id']\n",
    "    album_name = row['track']['album']['name']\n",
    "    album_release_date = row['track']['album']['release_date']\n",
    "    album_total_tracks = row['track']['album']['total_tracks']\n",
    "    album_url = row['track']['album']['external_urls']['spotify']\n",
    "    album_element = {'album_id':album_id,'name':album_name,'release_date':album_release_date,\n",
    "                        'total_tracks':album_total_tracks,'url':album_url}\n",
    "    album_list.append(album_element)\n",
    "    \n",
    "album_list"
   ]
  },
  {
   "cell_type": "code",
   "execution_count": 21,
   "id": "b7d31d7c",
   "metadata": {},
   "outputs": [
    {
     "data": {
      "text/plain": [
       "[{'artist_id': '3PpjqSKBer3obW6lDflOBx',\n",
       "  'artist_name': 'Ram Sampath',\n",
       "  'external_url': 'https://api.spotify.com/v1/artists/3PpjqSKBer3obW6lDflOBx'},\n",
       " {'artist_id': '4YRxDV8wJFPHPTeXepOstw',\n",
       "  'artist_name': 'Arijit Singh',\n",
       "  'external_url': 'https://api.spotify.com/v1/artists/4YRxDV8wJFPHPTeXepOstw'},\n",
       " {'artist_id': '7vCsTTACb2iT4fvBMnwp5w',\n",
       "  'artist_name': 'Prashant Pandey',\n",
       "  'external_url': 'https://api.spotify.com/v1/artists/7vCsTTACb2iT4fvBMnwp5w'},\n",
       " {'artist_id': '1mBydYMVBECdDmMfE2sEUO',\n",
       "  'artist_name': 'Sachin-Jigar',\n",
       "  'external_url': 'https://api.spotify.com/v1/artists/1mBydYMVBECdDmMfE2sEUO'},\n",
       " {'artist_id': '4YRxDV8wJFPHPTeXepOstw',\n",
       "  'artist_name': 'Arijit Singh',\n",
       "  'external_url': 'https://api.spotify.com/v1/artists/4YRxDV8wJFPHPTeXepOstw'},\n",
       " {'artist_id': '2fMqTqiTxUDlmcOEPaQSsx',\n",
       "  'artist_name': 'Amitabh Bhattacharya',\n",
       "  'external_url': 'https://api.spotify.com/v1/artists/2fMqTqiTxUDlmcOEPaQSsx'},\n",
       " {'artist_id': '1wRPtKGflJrBx9BmLsSwlU',\n",
       "  'artist_name': 'Pritam',\n",
       "  'external_url': 'https://api.spotify.com/v1/artists/1wRPtKGflJrBx9BmLsSwlU'},\n",
       " {'artist_id': '5diMmmNkRVfgUnXJrzXzjZ',\n",
       "  'artist_name': 'Javed Bashir',\n",
       "  'external_url': 'https://api.spotify.com/v1/artists/5diMmmNkRVfgUnXJrzXzjZ'},\n",
       " {'artist_id': '4gdMJYnopf2nEUcanAwstx',\n",
       "  'artist_name': 'Anuv Jain',\n",
       "  'external_url': 'https://api.spotify.com/v1/artists/4gdMJYnopf2nEUcanAwstx'},\n",
       " {'artist_id': '4gdMJYnopf2nEUcanAwstx',\n",
       "  'artist_name': 'Anuv Jain',\n",
       "  'external_url': 'https://api.spotify.com/v1/artists/4gdMJYnopf2nEUcanAwstx'},\n",
       " {'artist_id': '05etL4pzWd6TSv1x5WrlG3',\n",
       "  'artist_name': 'Faheem Abdullah',\n",
       "  'external_url': 'https://api.spotify.com/v1/artists/05etL4pzWd6TSv1x5WrlG3'},\n",
       " {'artist_id': '22UtphG4LcwxlhhV0aP4js',\n",
       "  'artist_name': 'Rauhan Malik',\n",
       "  'external_url': 'https://api.spotify.com/v1/artists/22UtphG4LcwxlhhV0aP4js'},\n",
       " {'artist_id': '6MPuzz9hPrs4TwxeHh4cEj',\n",
       "  'artist_name': 'Amir Ameer',\n",
       "  'external_url': 'https://api.spotify.com/v1/artists/6MPuzz9hPrs4TwxeHh4cEj'}]"
      ]
     },
     "execution_count": 21,
     "metadata": {},
     "output_type": "execute_result"
    }
   ],
   "source": [
    "artist_list = []\n",
    "for row in data['items']:\n",
    "    for key, value in row.items():\n",
    "        if key == \"track\":\n",
    "            for artist in value['artists']:\n",
    "                artist_dict = {'artist_id':artist['id'], 'artist_name':artist['name'], 'external_url': artist['href']}\n",
    "                artist_list.append(artist_dict)\n",
    "                \n",
    "artist_list"
   ]
  },
  {
   "cell_type": "code",
   "execution_count": 23,
   "id": "6abd4469",
   "metadata": {},
   "outputs": [
    {
     "data": {
      "text/plain": [
       "[{'song_id': '5zCnGtCl5Ac5zlFHXaZmhy',\n",
       "  'song_name': 'Sajni (From \"Laapataa Ladies\")',\n",
       "  'duration_ms': 170044,\n",
       "  'url': 'https://open.spotify.com/track/5zCnGtCl5Ac5zlFHXaZmhy',\n",
       "  'popularity': 79,\n",
       "  'song_added': '2024-12-17T12:28:50Z',\n",
       "  'album_id': '3I3kZyHUtEA9Y59rJkxtk6',\n",
       "  'artist_id': '3PpjqSKBer3obW6lDflOBx'},\n",
       " {'song_id': '1hA697u7e1jX2XM8sWA6Uy',\n",
       "  'song_name': 'Apna Bana Le',\n",
       "  'duration_ms': 261702,\n",
       "  'url': 'https://open.spotify.com/track/1hA697u7e1jX2XM8sWA6Uy',\n",
       "  'popularity': 74,\n",
       "  'song_added': '2024-12-17T12:28:53Z',\n",
       "  'album_id': '1pw0xzpe4O0OMohBwau50L',\n",
       "  'artist_id': '1mBydYMVBECdDmMfE2sEUO'},\n",
       " {'song_id': '2cPUB8EOT6AfJ8oxhyoNXL',\n",
       "  'song_name': 'Ye Tune Kya Kiya',\n",
       "  'duration_ms': 314239,\n",
       "  'url': 'https://open.spotify.com/track/2cPUB8EOT6AfJ8oxhyoNXL',\n",
       "  'popularity': 74,\n",
       "  'song_added': '2024-12-17T16:01:01Z',\n",
       "  'album_id': '381lOukp7nV59bJS13TkPe',\n",
       "  'artist_id': '1wRPtKGflJrBx9BmLsSwlU'},\n",
       " {'song_id': '0eCajpR75pDW0r64U6hP2x',\n",
       "  'song_name': 'Jo Tum Mere Ho',\n",
       "  'duration_ms': 251813,\n",
       "  'url': 'https://open.spotify.com/track/0eCajpR75pDW0r64U6hP2x',\n",
       "  'popularity': 83,\n",
       "  'song_added': '2024-12-17T16:01:02Z',\n",
       "  'album_id': '0upenH0uUT36nBbVM5mQhW',\n",
       "  'artist_id': '4gdMJYnopf2nEUcanAwstx'},\n",
       " {'song_id': '0TL0LFcwIBF5eX7arDIKxY',\n",
       "  'song_name': 'Husn',\n",
       "  'duration_ms': 217894,\n",
       "  'url': 'https://open.spotify.com/track/0TL0LFcwIBF5eX7arDIKxY',\n",
       "  'popularity': 77,\n",
       "  'song_added': '2024-12-17T16:01:03Z',\n",
       "  'album_id': '2SarxpD48O1DOiDIccyZ0W',\n",
       "  'artist_id': '4gdMJYnopf2nEUcanAwstx'},\n",
       " {'song_id': '1hlbywc8Jhl1FFqJxAMabE',\n",
       "  'song_name': 'Ishq',\n",
       "  'duration_ms': 224842,\n",
       "  'url': 'https://open.spotify.com/track/1hlbywc8Jhl1FFqJxAMabE',\n",
       "  'popularity': 74,\n",
       "  'song_added': '2024-12-17T16:01:07Z',\n",
       "  'album_id': '013jUXOfDFXnDMBetTdsiH',\n",
       "  'artist_id': '05etL4pzWd6TSv1x5WrlG3'}]"
      ]
     },
     "execution_count": 23,
     "metadata": {},
     "output_type": "execute_result"
    }
   ],
   "source": [
    "song_list = []\n",
    "for row in data['items']:\n",
    "    song_id = row['track']['id']\n",
    "    song_name = row['track']['name']\n",
    "    song_duration = row['track']['duration_ms']\n",
    "    song_url = row['track']['external_urls']['spotify']\n",
    "    song_popularity = row['track']['popularity']\n",
    "    song_added = row['added_at']\n",
    "    album_id = row['track']['album']['id']\n",
    "    artist_id = row['track']['album']['artists'][0]['id']\n",
    "    song_element = {'song_id':song_id,'song_name':song_name,'duration_ms':song_duration,'url':song_url,\n",
    "                    'popularity':song_popularity,'song_added':song_added,'album_id':album_id,\n",
    "                    'artist_id':artist_id}\n",
    "    song_list.append(song_element)\n",
    "    \n",
    "song_list\n"
   ]
  },
  {
   "cell_type": "code",
   "execution_count": 24,
   "id": "7f289a0c",
   "metadata": {},
   "outputs": [
    {
     "data": {
      "text/html": [
       "<div>\n",
       "<style scoped>\n",
       "    .dataframe tbody tr th:only-of-type {\n",
       "        vertical-align: middle;\n",
       "    }\n",
       "\n",
       "    .dataframe tbody tr th {\n",
       "        vertical-align: top;\n",
       "    }\n",
       "\n",
       "    .dataframe thead th {\n",
       "        text-align: right;\n",
       "    }\n",
       "</style>\n",
       "<table border=\"1\" class=\"dataframe\">\n",
       "  <thead>\n",
       "    <tr style=\"text-align: right;\">\n",
       "      <th></th>\n",
       "      <th>album_id</th>\n",
       "      <th>name</th>\n",
       "      <th>release_date</th>\n",
       "      <th>total_tracks</th>\n",
       "      <th>url</th>\n",
       "    </tr>\n",
       "  </thead>\n",
       "  <tbody>\n",
       "    <tr>\n",
       "      <th>0</th>\n",
       "      <td>3I3kZyHUtEA9Y59rJkxtk6</td>\n",
       "      <td>Sajni (From \"Laapataa Ladies\")</td>\n",
       "      <td>2024-02-12</td>\n",
       "      <td>1</td>\n",
       "      <td>https://open.spotify.com/album/3I3kZyHUtEA9Y59...</td>\n",
       "    </tr>\n",
       "    <tr>\n",
       "      <th>1</th>\n",
       "      <td>1pw0xzpe4O0OMohBwau50L</td>\n",
       "      <td>Bhediya (Original Motion Picture Soundtrack)</td>\n",
       "      <td>2022-12-06</td>\n",
       "      <td>5</td>\n",
       "      <td>https://open.spotify.com/album/1pw0xzpe4O0OMoh...</td>\n",
       "    </tr>\n",
       "    <tr>\n",
       "      <th>2</th>\n",
       "      <td>381lOukp7nV59bJS13TkPe</td>\n",
       "      <td>Once Upon Ay Time In Mumbai Dobaara !</td>\n",
       "      <td>2013-07-22</td>\n",
       "      <td>5</td>\n",
       "      <td>https://open.spotify.com/album/381lOukp7nV59bJ...</td>\n",
       "    </tr>\n",
       "    <tr>\n",
       "      <th>3</th>\n",
       "      <td>0upenH0uUT36nBbVM5mQhW</td>\n",
       "      <td>Jo Tum Mere Ho</td>\n",
       "      <td>2024-08-02</td>\n",
       "      <td>1</td>\n",
       "      <td>https://open.spotify.com/album/0upenH0uUT36nBb...</td>\n",
       "    </tr>\n",
       "    <tr>\n",
       "      <th>4</th>\n",
       "      <td>2SarxpD48O1DOiDIccyZ0W</td>\n",
       "      <td>Husn</td>\n",
       "      <td>2023-12-01</td>\n",
       "      <td>1</td>\n",
       "      <td>https://open.spotify.com/album/2SarxpD48O1DOiD...</td>\n",
       "    </tr>\n",
       "  </tbody>\n",
       "</table>\n",
       "</div>"
      ],
      "text/plain": [
       "                 album_id                                          name  \\\n",
       "0  3I3kZyHUtEA9Y59rJkxtk6                Sajni (From \"Laapataa Ladies\")   \n",
       "1  1pw0xzpe4O0OMohBwau50L  Bhediya (Original Motion Picture Soundtrack)   \n",
       "2  381lOukp7nV59bJS13TkPe         Once Upon Ay Time In Mumbai Dobaara !   \n",
       "3  0upenH0uUT36nBbVM5mQhW                                Jo Tum Mere Ho   \n",
       "4  2SarxpD48O1DOiDIccyZ0W                                          Husn   \n",
       "\n",
       "  release_date  total_tracks  \\\n",
       "0   2024-02-12             1   \n",
       "1   2022-12-06             5   \n",
       "2   2013-07-22             5   \n",
       "3   2024-08-02             1   \n",
       "4   2023-12-01             1   \n",
       "\n",
       "                                                 url  \n",
       "0  https://open.spotify.com/album/3I3kZyHUtEA9Y59...  \n",
       "1  https://open.spotify.com/album/1pw0xzpe4O0OMoh...  \n",
       "2  https://open.spotify.com/album/381lOukp7nV59bJ...  \n",
       "3  https://open.spotify.com/album/0upenH0uUT36nBb...  \n",
       "4  https://open.spotify.com/album/2SarxpD48O1DOiD...  "
      ]
     },
     "execution_count": 24,
     "metadata": {},
     "output_type": "execute_result"
    }
   ],
   "source": [
    "album_df = pd.DataFrame.from_dict(album_list)\n",
    "album_df.head()"
   ]
  }
 ],
 "metadata": {
  "kernelspec": {
   "display_name": "Python 3 (ipykernel)",
   "language": "python",
   "name": "python3"
  },
  "language_info": {
   "codemirror_mode": {
    "name": "ipython",
    "version": 3
   },
   "file_extension": ".py",
   "mimetype": "text/x-python",
   "name": "python",
   "nbconvert_exporter": "python",
   "pygments_lexer": "ipython3",
   "version": "3.11.5"
  }
 },
 "nbformat": 4,
 "nbformat_minor": 5
}
